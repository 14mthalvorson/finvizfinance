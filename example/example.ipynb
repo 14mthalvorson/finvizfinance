{
 "cells": [
  {
   "cell_type": "markdown",
   "metadata": {},
   "source": [
    "# Finviz Finance"
   ]
  },
  {
   "cell_type": "markdown",
   "metadata": {},
   "source": [
    "## Quote"
   ]
  },
  {
   "cell_type": "code",
   "execution_count": null,
   "metadata": {},
   "outputs": [],
   "source": [
    "import pandas as pd\n",
    "from finvizfinance.quote import finvizfinance\n",
    "\n",
    "stock = finvizfinance('tsla')"
   ]
  },
  {
   "cell_type": "code",
   "execution_count": null,
   "metadata": {},
   "outputs": [],
   "source": [
    "stock.TickerCharts()"
   ]
  },
  {
   "cell_type": "code",
   "execution_count": null,
   "metadata": {},
   "outputs": [],
   "source": [
    "stock_fundament = stock.TickerFundament()\n",
    "stock_description = stock.TickerDescription()\n",
    "outer_ratings_df = stock.TickerOuterRatings()\n",
    "news_df = stock.TickerNews()\n",
    "inside_trader_df = stock.TickerInsideTrader()"
   ]
  },
  {
   "cell_type": "code",
   "execution_count": null,
   "metadata": {},
   "outputs": [],
   "source": [
    "print(stock_fundament)"
   ]
  },
  {
   "cell_type": "code",
   "execution_count": null,
   "metadata": {},
   "outputs": [],
   "source": [
    "print(stock_description)"
   ]
  },
  {
   "cell_type": "code",
   "execution_count": null,
   "metadata": {},
   "outputs": [],
   "source": [
    "outer_ratings_df.head()"
   ]
  },
  {
   "cell_type": "code",
   "execution_count": null,
   "metadata": {},
   "outputs": [],
   "source": [
    "news_df.head()"
   ]
  },
  {
   "cell_type": "code",
   "execution_count": null,
   "metadata": {},
   "outputs": [],
   "source": [
    "inside_trader_df.head()"
   ]
  },
  {
   "cell_type": "markdown",
   "metadata": {},
   "source": [
    "## News"
   ]
  },
  {
   "cell_type": "code",
   "execution_count": null,
   "metadata": {},
   "outputs": [],
   "source": [
    "from finvizfinance.news import News\n",
    "fnews = News()\n",
    "all_news = fnews.getNews()"
   ]
  },
  {
   "cell_type": "code",
   "execution_count": null,
   "metadata": {},
   "outputs": [],
   "source": [
    "all_news['news'].head()"
   ]
  },
  {
   "cell_type": "code",
   "execution_count": null,
   "metadata": {},
   "outputs": [],
   "source": [
    "all_news['blogs'].head()"
   ]
  },
  {
   "cell_type": "markdown",
   "metadata": {},
   "source": [
    "## Insider"
   ]
  },
  {
   "cell_type": "code",
   "execution_count": null,
   "metadata": {},
   "outputs": [],
   "source": [
    "from finvizfinance.insider import Insider\n",
    "finsider = Insider(option='top owner trade')\n",
    "finsider.getInsider().head()"
   ]
  },
  {
   "cell_type": "markdown",
   "metadata": {},
   "source": [
    "Use case: getting specific insider information"
   ]
  },
  {
   "cell_type": "code",
   "execution_count": null,
   "metadata": {},
   "outputs": [],
   "source": [
    "from finvizfinance.insider import Insider\n",
    "finsider = Insider(option='1771340')\n",
    "finsider.getInsider().head()"
   ]
  },
  {
   "cell_type": "markdown",
   "metadata": {},
   "source": [
    "## Screener"
   ]
  },
  {
   "cell_type": "markdown",
   "metadata": {},
   "source": [
    "Use case: setting filters"
   ]
  },
  {
   "cell_type": "code",
   "execution_count": null,
   "metadata": {},
   "outputs": [],
   "source": [
    "from finvizfinance.screener.overview import Overview\n",
    "foverview = Overview()\n",
    "filters_dict = {'Exchange':'AMEX','Sector':'Basic Materials'}\n",
    "foverview.set_filter(filters_dict=filters_dict)\n",
    "df = foverview.ScreenerView(order='Company')\n",
    "df.head()"
   ]
  },
  {
   "cell_type": "markdown",
   "metadata": {},
   "source": [
    "Use case: getting companys which are similar to TSLA."
   ]
  },
  {
   "cell_type": "code",
   "execution_count": null,
   "metadata": {},
   "outputs": [],
   "source": [
    "ticker = 'tsla'\n",
    "compare_list = ['Sector','Industry','Country']\n",
    "\n",
    "from finvizfinance.screener.financial import Financial\n",
    "ffinancial = Financial()\n",
    "df = ffinancial.compare(ticker,compare_list,verbose=0)\n",
    "df"
   ]
  },
  {
   "cell_type": "markdown",
   "metadata": {},
   "source": [
    "Use case: getting companys that have 'Triangle Ascending' signal."
   ]
  },
  {
   "cell_type": "code",
   "execution_count": null,
   "metadata": {},
   "outputs": [],
   "source": [
    "signal = 'Triangle Ascending'\n",
    "foverview.set_filter(signal=signal)\n",
    "df = foverview.ScreenerView()\n",
    "df.head()"
   ]
  },
  {
   "cell_type": "markdown",
   "metadata": {},
   "source": [
    "Use case: Getting individual company."
   ]
  },
  {
   "cell_type": "code",
   "execution_count": null,
   "metadata": {},
   "outputs": [],
   "source": [
    "ticker='TSLA'\n",
    "foverview.set_filter(signal='', filters_dict={}, ticker=ticker)\n",
    "df = foverview.ScreenerView()\n",
    "df.head()"
   ]
  },
  {
   "cell_type": "markdown",
   "metadata": {},
   "source": [
    "# Forex"
   ]
  },
  {
   "cell_type": "code",
   "execution_count": null,
   "metadata": {},
   "outputs": [],
   "source": [
    "from finvizfinance.forex import Forex\n",
    "fforex = Forex()\n",
    "df = fforex.performance()"
   ]
  },
  {
   "cell_type": "code",
   "execution_count": null,
   "metadata": {},
   "outputs": [],
   "source": [
    "fforex.chart('audusd')"
   ]
  },
  {
   "cell_type": "markdown",
   "metadata": {},
   "source": [
    "# Crypto"
   ]
  },
  {
   "cell_type": "code",
   "execution_count": null,
   "metadata": {},
   "outputs": [],
   "source": [
    "from finvizfinance.crypto import Crypto\n",
    "fcrypto = Crypto()\n",
    "fcrypto.performance()\n",
    "fcrypto.chart('btcusd',timeframe='5M')"
   ]
  },
  {
   "cell_type": "markdown",
   "metadata": {},
   "source": [
    "# Group"
   ]
  },
  {
   "cell_type": "code",
   "execution_count": 1,
   "metadata": {},
   "outputs": [
    {
     "ename": "ModuleNotFoundError",
     "evalue": "No module named 'finvizfinance.group'",
     "output_type": "error",
     "traceback": [
      "\u001b[0;31m---------------------------------------------------------------------------\u001b[0m",
      "\u001b[0;31mModuleNotFoundError\u001b[0m                       Traceback (most recent call last)",
      "\u001b[0;32m<ipython-input-1-e83fa4d63d31>\u001b[0m in \u001b[0;36m<module>\u001b[0;34m\u001b[0m\n\u001b[0;32m----> 1\u001b[0;31m \u001b[0;32mfrom\u001b[0m \u001b[0mfinvizfinance\u001b[0m\u001b[0;34m.\u001b[0m\u001b[0mgroup\u001b[0m\u001b[0;34m.\u001b[0m\u001b[0moverview\u001b[0m \u001b[0;32mimport\u001b[0m \u001b[0mOverview\u001b[0m\u001b[0;34m\u001b[0m\u001b[0;34m\u001b[0m\u001b[0m\n\u001b[0m\u001b[1;32m      2\u001b[0m \u001b[0mfgoverview\u001b[0m \u001b[0;34m=\u001b[0m \u001b[0mOverview\u001b[0m\u001b[0;34m(\u001b[0m\u001b[0;34m)\u001b[0m\u001b[0;34m\u001b[0m\u001b[0;34m\u001b[0m\u001b[0m\n\u001b[1;32m      3\u001b[0m \u001b[0mdf\u001b[0m \u001b[0;34m=\u001b[0m \u001b[0mfgoverview\u001b[0m\u001b[0;34m.\u001b[0m\u001b[0mScreenerView\u001b[0m\u001b[0;34m(\u001b[0m\u001b[0mgroup\u001b[0m\u001b[0;34m=\u001b[0m\u001b[0;34m'Industry'\u001b[0m\u001b[0;34m)\u001b[0m\u001b[0;34m\u001b[0m\u001b[0;34m\u001b[0m\u001b[0m\n\u001b[1;32m      4\u001b[0m \u001b[0mdf\u001b[0m\u001b[0;34m.\u001b[0m\u001b[0mtail\u001b[0m\u001b[0;34m(\u001b[0m\u001b[0;34m)\u001b[0m\u001b[0;34m\u001b[0m\u001b[0;34m\u001b[0m\u001b[0m\n",
      "\u001b[0;31mModuleNotFoundError\u001b[0m: No module named 'finvizfinance.group'"
     ]
    }
   ],
   "source": [
    "from finvizfinance.group.overview import Overview\n",
    "fgoverview = Overview()\n",
    "df = fgoverview.ScreenerView(group='Industry')\n",
    "df.tail()"
   ]
  },
  {
   "cell_type": "code",
   "execution_count": null,
   "metadata": {},
   "outputs": [],
   "source": [
    "from finvizfinance.group.valuation import Valuation\n",
    "fgvaluation = Valuation()\n",
    "df = fgvaluation.ScreenerView(group='Industry')\n",
    "df.tail()"
   ]
  },
  {
   "cell_type": "code",
   "execution_count": null,
   "metadata": {},
   "outputs": [],
   "source": [
    "from finvizfinance.group.performance import Performance\n",
    "fgperformance = Performance()\n",
    "df = fgperformance.ScreenerView(group='Industry')\n",
    "df.tail()"
   ]
  },
  {
   "cell_type": "code",
   "execution_count": null,
   "metadata": {},
   "outputs": [],
   "source": [
    "from finvizfinance.group.spectrum import Spectrum\n",
    "from finvizfinance.util import imageScrap\n",
    "fgspectrum = Spectrum()\n",
    "soup = fgspectrum.ScreenerView(group='Industry')"
   ]
  },
  {
   "cell_type": "code",
   "execution_count": null,
   "metadata": {},
   "outputs": [],
   "source": [
    "url = 'https://finviz.com/'+soup.findAll('img')[5]['src']\n",
    "url"
   ]
  },
  {
   "cell_type": "code",
   "execution_count": null,
   "metadata": {},
   "outputs": [],
   "source": [
    "imageScrap(url, 'Industry', '')"
   ]
  },
  {
   "cell_type": "code",
   "execution_count": null,
   "metadata": {},
   "outputs": [],
   "source": [
    "# content = soup.find('div', class_='container')\n",
    "# imgs = content.findAll('img')\n",
    "# for img in imgs:\n",
    "#     website = img['src']\n",
    "#     name = website.split('?')[1].split('&')[0].split('.')[0]\n",
    "#     forex_name = name.split('_')[0]\n",
    "#     imageScrap('https://finviz.com/'+website, name, '')\n",
    "#     break"
   ]
  },
  {
   "cell_type": "code",
   "execution_count": null,
   "metadata": {},
   "outputs": [],
   "source": [
    "import pandas as pd\n",
    "from finvizfinance.util import webScrap, numberCovert"
   ]
  },
  {
   "cell_type": "code",
   "execution_count": null,
   "metadata": {},
   "outputs": [],
   "source": [
    "soup = webScrap('https://finviz.com/groups.ashx?g=sector&v=110&o=name')\n",
    "\n",
    "table = soup.findAll('table')[5]\n",
    "rows = table.findAll('tr')\n",
    "table_header = [i.text for i in rows[0].findAll('td')][1:]\n",
    "df = pd.DataFrame([], columns=table_header)\n",
    "rows = rows[1:]\n",
    "num_col_index = [i for i in range(2, len(table_header))]\n",
    "for row in rows:\n",
    "    cols = row.findAll('td')[1:]\n",
    "    info_dict = {}\n",
    "    for i, col in enumerate(cols):\n",
    "        # check if the col is number\n",
    "        if i not in num_col_index:\n",
    "            info_dict[table_header[i]] = col.text\n",
    "        else:\n",
    "            info_dict[table_header[i]] = numberCovert(col.text)\n",
    "\n",
    "    df = df.append(info_dict, ignore_index=True)"
   ]
  },
  {
   "cell_type": "code",
   "execution_count": null,
   "metadata": {},
   "outputs": [],
   "source": [
    "df"
   ]
  },
  {
   "cell_type": "code",
   "execution_count": null,
   "metadata": {},
   "outputs": [],
   "source": [
    "from finvizfinance.util import webScrap\n",
    "\n",
    "soup = webScrap('https://finviz.com/groups.ashx?g=sector&v=110')\n",
    "selects = soup.findAll('select')"
   ]
  },
  {
   "cell_type": "code",
   "execution_count": null,
   "metadata": {},
   "outputs": [],
   "source": [
    "options = selects[0].findAll('option')\n",
    "key = [i.text for i in options]\n",
    "value = []\n",
    "for option in options:\n",
    "    temp = option['value'].split('?')[1].split('&')\n",
    "    if len(temp)==4:\n",
    "        temp = '&'.join(temp[:2])\n",
    "    else:\n",
    "        temp = temp[0]\n",
    "    value.append(temp)\n",
    "group_dict = dict(zip(key, value))"
   ]
  },
  {
   "cell_type": "code",
   "execution_count": null,
   "metadata": {},
   "outputs": [],
   "source": [
    "options = selects[1].findAll('option')\n",
    "key = [i.text for i in options]\n",
    "value = [i['value'].split('&')[-1] for i in options]\n",
    "order_dict = dict(zip(key, value))"
   ]
  },
  {
   "cell_type": "code",
   "execution_count": null,
   "metadata": {},
   "outputs": [],
   "source": [
    "group_dict"
   ]
  },
  {
   "cell_type": "markdown",
   "metadata": {},
   "source": [
    " # test"
   ]
  },
  {
   "cell_type": "code",
   "execution_count": null,
   "metadata": {},
   "outputs": [],
   "source": [
    "from datetime import datetime\n",
    "\n",
    "now = datetime.now()"
   ]
  },
  {
   "cell_type": "code",
   "execution_count": null,
   "metadata": {},
   "outputs": [],
   "source": [
    "print(now)"
   ]
  },
  {
   "cell_type": "code",
   "execution_count": null,
   "metadata": {},
   "outputs": [],
   "source": [
    "'A'.lower()"
   ]
  },
  {
   "cell_type": "code",
   "execution_count": null,
   "metadata": {},
   "outputs": [],
   "source": []
  }
 ],
 "metadata": {
  "hide_input": false,
  "kernelspec": {
   "display_name": "Python 3",
   "language": "python",
   "name": "python3"
  },
  "language_info": {
   "codemirror_mode": {
    "name": "ipython",
    "version": 3
   },
   "file_extension": ".py",
   "mimetype": "text/x-python",
   "name": "python",
   "nbconvert_exporter": "python",
   "pygments_lexer": "ipython3",
   "version": "3.7.5"
  },
  "toc": {
   "base_numbering": 1,
   "nav_menu": {},
   "number_sections": true,
   "sideBar": true,
   "skip_h1_title": false,
   "title_cell": "Table of Contents",
   "title_sidebar": "Contents",
   "toc_cell": false,
   "toc_position": {
    "height": "796.667px",
    "left": "36px",
    "top": "192.052px",
    "width": "189.219px"
   },
   "toc_section_display": true,
   "toc_window_display": false
  },
  "varInspector": {
   "cols": {
    "lenName": 16,
    "lenType": 16,
    "lenVar": 40
   },
   "kernels_config": {
    "python": {
     "delete_cmd_postfix": "",
     "delete_cmd_prefix": "del ",
     "library": "var_list.py",
     "varRefreshCmd": "print(var_dic_list())"
    },
    "r": {
     "delete_cmd_postfix": ") ",
     "delete_cmd_prefix": "rm(",
     "library": "var_list.r",
     "varRefreshCmd": "cat(var_dic_list()) "
    }
   },
   "types_to_exclude": [
    "module",
    "function",
    "builtin_function_or_method",
    "instance",
    "_Feature"
   ],
   "window_display": false
  }
 },
 "nbformat": 4,
 "nbformat_minor": 2
}
